{
 "cells": [
  {
   "cell_type": "code",
   "execution_count": 1,
   "metadata": {},
   "outputs": [],
   "source": [
    "from pybacktestchain import data_module\n",
    "from pybacktestchain.data_module import *"
   ]
  },
  {
   "cell_type": "code",
   "execution_count": 2,
   "metadata": {},
   "outputs": [
    {
     "data": {
      "text/html": [
       "<div>\n",
       "<style scoped>\n",
       "    .dataframe tbody tr th:only-of-type {\n",
       "        vertical-align: middle;\n",
       "    }\n",
       "\n",
       "    .dataframe tbody tr th {\n",
       "        vertical-align: top;\n",
       "    }\n",
       "\n",
       "    .dataframe thead th {\n",
       "        text-align: right;\n",
       "    }\n",
       "</style>\n",
       "<table border=\"1\" class=\"dataframe\">\n",
       "  <thead>\n",
       "    <tr style=\"text-align: right;\">\n",
       "      <th></th>\n",
       "      <th>Date</th>\n",
       "      <th>Open</th>\n",
       "      <th>High</th>\n",
       "      <th>Low</th>\n",
       "      <th>Close</th>\n",
       "      <th>Adj Close</th>\n",
       "      <th>Volume</th>\n",
       "      <th>ticker</th>\n",
       "    </tr>\n",
       "  </thead>\n",
       "  <tbody>\n",
       "    <tr>\n",
       "      <th>0</th>\n",
       "      <td>2000-01-03 00:00:00-05:00</td>\n",
       "      <td>0.936384</td>\n",
       "      <td>1.004464</td>\n",
       "      <td>0.907924</td>\n",
       "      <td>0.999442</td>\n",
       "      <td>0.843076</td>\n",
       "      <td>535796800</td>\n",
       "      <td>AAPL</td>\n",
       "    </tr>\n",
       "    <tr>\n",
       "      <th>1</th>\n",
       "      <td>2000-01-04 00:00:00-05:00</td>\n",
       "      <td>0.966518</td>\n",
       "      <td>0.987723</td>\n",
       "      <td>0.903460</td>\n",
       "      <td>0.915179</td>\n",
       "      <td>0.771996</td>\n",
       "      <td>512377600</td>\n",
       "      <td>AAPL</td>\n",
       "    </tr>\n",
       "    <tr>\n",
       "      <th>2</th>\n",
       "      <td>2000-01-05 00:00:00-05:00</td>\n",
       "      <td>0.926339</td>\n",
       "      <td>0.987165</td>\n",
       "      <td>0.919643</td>\n",
       "      <td>0.928571</td>\n",
       "      <td>0.783294</td>\n",
       "      <td>778321600</td>\n",
       "      <td>AAPL</td>\n",
       "    </tr>\n",
       "    <tr>\n",
       "      <th>3</th>\n",
       "      <td>2000-01-06 00:00:00-05:00</td>\n",
       "      <td>0.947545</td>\n",
       "      <td>0.955357</td>\n",
       "      <td>0.848214</td>\n",
       "      <td>0.848214</td>\n",
       "      <td>0.715509</td>\n",
       "      <td>767972800</td>\n",
       "      <td>AAPL</td>\n",
       "    </tr>\n",
       "    <tr>\n",
       "      <th>4</th>\n",
       "      <td>2000-01-07 00:00:00-05:00</td>\n",
       "      <td>0.861607</td>\n",
       "      <td>0.901786</td>\n",
       "      <td>0.852679</td>\n",
       "      <td>0.888393</td>\n",
       "      <td>0.749402</td>\n",
       "      <td>460734400</td>\n",
       "      <td>AAPL</td>\n",
       "    </tr>\n",
       "    <tr>\n",
       "      <th>...</th>\n",
       "      <td>...</td>\n",
       "      <td>...</td>\n",
       "      <td>...</td>\n",
       "      <td>...</td>\n",
       "      <td>...</td>\n",
       "      <td>...</td>\n",
       "      <td>...</td>\n",
       "      <td>...</td>\n",
       "    </tr>\n",
       "    <tr>\n",
       "      <th>5278</th>\n",
       "      <td>2020-12-23 00:00:00-05:00</td>\n",
       "      <td>223.110001</td>\n",
       "      <td>223.559998</td>\n",
       "      <td>220.800003</td>\n",
       "      <td>221.020004</td>\n",
       "      <td>214.069550</td>\n",
       "      <td>18699600</td>\n",
       "      <td>MSFT</td>\n",
       "    </tr>\n",
       "    <tr>\n",
       "      <th>5279</th>\n",
       "      <td>2020-12-24 00:00:00-05:00</td>\n",
       "      <td>221.419998</td>\n",
       "      <td>223.610001</td>\n",
       "      <td>221.199997</td>\n",
       "      <td>222.750000</td>\n",
       "      <td>215.745148</td>\n",
       "      <td>10550600</td>\n",
       "      <td>MSFT</td>\n",
       "    </tr>\n",
       "    <tr>\n",
       "      <th>5280</th>\n",
       "      <td>2020-12-28 00:00:00-05:00</td>\n",
       "      <td>224.449997</td>\n",
       "      <td>226.029999</td>\n",
       "      <td>223.020004</td>\n",
       "      <td>224.960007</td>\n",
       "      <td>217.885696</td>\n",
       "      <td>17933500</td>\n",
       "      <td>MSFT</td>\n",
       "    </tr>\n",
       "    <tr>\n",
       "      <th>5281</th>\n",
       "      <td>2020-12-29 00:00:00-05:00</td>\n",
       "      <td>226.309998</td>\n",
       "      <td>227.179993</td>\n",
       "      <td>223.580002</td>\n",
       "      <td>224.149994</td>\n",
       "      <td>217.101135</td>\n",
       "      <td>17403200</td>\n",
       "      <td>MSFT</td>\n",
       "    </tr>\n",
       "    <tr>\n",
       "      <th>5282</th>\n",
       "      <td>2020-12-30 00:00:00-05:00</td>\n",
       "      <td>225.229996</td>\n",
       "      <td>225.630005</td>\n",
       "      <td>221.470001</td>\n",
       "      <td>221.679993</td>\n",
       "      <td>214.708817</td>\n",
       "      <td>20272300</td>\n",
       "      <td>MSFT</td>\n",
       "    </tr>\n",
       "  </tbody>\n",
       "</table>\n",
       "<p>10566 rows × 8 columns</p>\n",
       "</div>"
      ],
      "text/plain": [
       "                          Date        Open        High         Low  \\\n",
       "0    2000-01-03 00:00:00-05:00    0.936384    1.004464    0.907924   \n",
       "1    2000-01-04 00:00:00-05:00    0.966518    0.987723    0.903460   \n",
       "2    2000-01-05 00:00:00-05:00    0.926339    0.987165    0.919643   \n",
       "3    2000-01-06 00:00:00-05:00    0.947545    0.955357    0.848214   \n",
       "4    2000-01-07 00:00:00-05:00    0.861607    0.901786    0.852679   \n",
       "...                        ...         ...         ...         ...   \n",
       "5278 2020-12-23 00:00:00-05:00  223.110001  223.559998  220.800003   \n",
       "5279 2020-12-24 00:00:00-05:00  221.419998  223.610001  221.199997   \n",
       "5280 2020-12-28 00:00:00-05:00  224.449997  226.029999  223.020004   \n",
       "5281 2020-12-29 00:00:00-05:00  226.309998  227.179993  223.580002   \n",
       "5282 2020-12-30 00:00:00-05:00  225.229996  225.630005  221.470001   \n",
       "\n",
       "           Close   Adj Close     Volume ticker  \n",
       "0       0.999442    0.843076  535796800   AAPL  \n",
       "1       0.915179    0.771996  512377600   AAPL  \n",
       "2       0.928571    0.783294  778321600   AAPL  \n",
       "3       0.848214    0.715509  767972800   AAPL  \n",
       "4       0.888393    0.749402  460734400   AAPL  \n",
       "...          ...         ...        ...    ...  \n",
       "5278  221.020004  214.069550   18699600   MSFT  \n",
       "5279  222.750000  215.745148   10550600   MSFT  \n",
       "5280  224.960007  217.885696   17933500   MSFT  \n",
       "5281  224.149994  217.101135   17403200   MSFT  \n",
       "5282  221.679993  214.708817   20272300   MSFT  \n",
       "\n",
       "[10566 rows x 8 columns]"
      ]
     },
     "execution_count": 2,
     "metadata": {},
     "output_type": "execute_result"
    }
   ],
   "source": [
    "df = get_stocks_data(['AAPL', 'MSFT'], '2000-01-01', '2020-12-31')\n",
    "df"
   ]
  },
  {
   "cell_type": "code",
   "execution_count": 3,
   "metadata": {},
   "outputs": [
    {
     "name": "stdout",
     "output_type": "stream",
     "text": [
      "['AAPL' 'MSFT']\n",
      "2\n"
     ]
    }
   ],
   "source": [
    "tickers = df[\"ticker\"].unique()\n",
    "print(tickers)\n",
    "print(len(tickers))"
   ]
  },
  {
   "cell_type": "code",
   "execution_count": 4,
   "metadata": {},
   "outputs": [
    {
     "data": {
      "text/plain": [
       "Information(s=                          Date        Open        High         Low  \\\n",
       "0    2000-01-03 00:00:00-05:00    0.936384    1.004464    0.907924   \n",
       "1    2000-01-04 00:00:00-05:00    0.966518    0.987723    0.903460   \n",
       "2    2000-01-05 00:00:00-05:00    0.926339    0.987165    0.919643   \n",
       "3    2000-01-06 00:00:00-05:00    0.947545    0.955357    0.848214   \n",
       "4    2000-01-07 00:00:00-05:00    0.861607    0.901786    0.852679   \n",
       "...                        ...         ...         ...         ...   \n",
       "5278 2020-12-23 00:00:00-05:00  223.110001  223.559998  220.800003   \n",
       "5279 2020-12-24 00:00:00-05:00  221.419998  223.610001  221.199997   \n",
       "5280 2020-12-28 00:00:00-05:00  224.449997  226.029999  223.020004   \n",
       "5281 2020-12-29 00:00:00-05:00  226.309998  227.179993  223.580002   \n",
       "5282 2020-12-30 00:00:00-05:00  225.229996  225.630005  221.470001   \n",
       "\n",
       "           Close   Adj Close     Volume ticker  \n",
       "0       0.999442    0.843076  535796800   AAPL  \n",
       "1       0.915179    0.771996  512377600   AAPL  \n",
       "2       0.928571    0.783294  778321600   AAPL  \n",
       "3       0.848214    0.715509  767972800   AAPL  \n",
       "4       0.888393    0.749402  460734400   AAPL  \n",
       "...          ...         ...        ...    ...  \n",
       "5278  221.020004  214.069550   18699600   MSFT  \n",
       "5279  222.750000  215.745148   10550600   MSFT  \n",
       "5280  224.960007  217.885696   17933500   MSFT  \n",
       "5281  224.149994  217.101135   17403200   MSFT  \n",
       "5282  221.679993  214.708817   20272300   MSFT  \n",
       "\n",
       "[10566 rows x 8 columns], data_module=None, time_column='Date', company_column='ticker', adj_close_column='Close')"
      ]
     },
     "execution_count": 4,
     "metadata": {},
     "output_type": "execute_result"
    }
   ],
   "source": [
    "Information(df)"
   ]
  },
  {
   "cell_type": "markdown",
   "metadata": {},
   "source": [
    "**Classe information :**\n",
    "- permet de couper les données du début à une date donnée\n",
    "- permet d'avoir le dernier prix (close) à une date donnée (close de la veille)"
   ]
  },
  {
   "cell_type": "code",
   "execution_count": 5,
   "metadata": {},
   "outputs": [
    {
     "data": {
      "text/plain": [
       "Information(s=datetime.timedelta(days=42264), data_module=DataModule(data=                          Date        Open        High         Low  \\\n",
       "0    2000-01-03 00:00:00-05:00    0.936384    1.004464    0.907924   \n",
       "1    2000-01-04 00:00:00-05:00    0.966518    0.987723    0.903460   \n",
       "2    2000-01-05 00:00:00-05:00    0.926339    0.987165    0.919643   \n",
       "3    2000-01-06 00:00:00-05:00    0.947545    0.955357    0.848214   \n",
       "4    2000-01-07 00:00:00-05:00    0.861607    0.901786    0.852679   \n",
       "...                        ...         ...         ...         ...   \n",
       "5278 2020-12-23 00:00:00-05:00  223.110001  223.559998  220.800003   \n",
       "5279 2020-12-24 00:00:00-05:00  221.419998  223.610001  221.199997   \n",
       "5280 2020-12-28 00:00:00-05:00  224.449997  226.029999  223.020004   \n",
       "5281 2020-12-29 00:00:00-05:00  226.309998  227.179993  223.580002   \n",
       "5282 2020-12-30 00:00:00-05:00  225.229996  225.630005  221.470001   \n",
       "\n",
       "           Close   Adj Close     Volume ticker  \n",
       "0       0.999442    0.843076  535796800   AAPL  \n",
       "1       0.915179    0.771996  512377600   AAPL  \n",
       "2       0.928571    0.783294  778321600   AAPL  \n",
       "3       0.848214    0.715509  767972800   AAPL  \n",
       "4       0.888393    0.749402  460734400   AAPL  \n",
       "...          ...         ...        ...    ...  \n",
       "5278  221.020004  214.069550   18699600   MSFT  \n",
       "5279  222.750000  215.745148   10550600   MSFT  \n",
       "5280  224.960007  217.885696   17933500   MSFT  \n",
       "5281  224.149994  217.101135   17403200   MSFT  \n",
       "5282  221.679993  214.708817   20272300   MSFT  \n",
       "\n",
       "[10566 rows x 8 columns]), time_column='Date', company_column='ticker', adj_close_column='Close')"
      ]
     },
     "execution_count": 5,
     "metadata": {},
     "output_type": "execute_result"
    }
   ],
   "source": [
    "data_module = DataModule(df)\n",
    "\n",
    "#Information : \n",
    "info = Information(s = timedelta(data_module.data.size/len(tickers)), data_module=data_module)\n",
    "info"
   ]
  },
  {
   "cell_type": "code",
   "execution_count": 6,
   "metadata": {},
   "outputs": [
    {
     "data": {
      "text/html": [
       "<div>\n",
       "<style scoped>\n",
       "    .dataframe tbody tr th:only-of-type {\n",
       "        vertical-align: middle;\n",
       "    }\n",
       "\n",
       "    .dataframe tbody tr th {\n",
       "        vertical-align: top;\n",
       "    }\n",
       "\n",
       "    .dataframe thead th {\n",
       "        text-align: right;\n",
       "    }\n",
       "</style>\n",
       "<table border=\"1\" class=\"dataframe\">\n",
       "  <thead>\n",
       "    <tr style=\"text-align: right;\">\n",
       "      <th></th>\n",
       "      <th>Date</th>\n",
       "      <th>Open</th>\n",
       "      <th>High</th>\n",
       "      <th>Low</th>\n",
       "      <th>Close</th>\n",
       "      <th>Adj Close</th>\n",
       "      <th>Volume</th>\n",
       "      <th>ticker</th>\n",
       "    </tr>\n",
       "  </thead>\n",
       "  <tbody>\n",
       "    <tr>\n",
       "      <th>0</th>\n",
       "      <td>2000-01-03</td>\n",
       "      <td>0.936384</td>\n",
       "      <td>1.004464</td>\n",
       "      <td>0.907924</td>\n",
       "      <td>0.999442</td>\n",
       "      <td>0.843076</td>\n",
       "      <td>535796800</td>\n",
       "      <td>AAPL</td>\n",
       "    </tr>\n",
       "    <tr>\n",
       "      <th>1</th>\n",
       "      <td>2000-01-04</td>\n",
       "      <td>0.966518</td>\n",
       "      <td>0.987723</td>\n",
       "      <td>0.903460</td>\n",
       "      <td>0.915179</td>\n",
       "      <td>0.771996</td>\n",
       "      <td>512377600</td>\n",
       "      <td>AAPL</td>\n",
       "    </tr>\n",
       "    <tr>\n",
       "      <th>2</th>\n",
       "      <td>2000-01-05</td>\n",
       "      <td>0.926339</td>\n",
       "      <td>0.987165</td>\n",
       "      <td>0.919643</td>\n",
       "      <td>0.928571</td>\n",
       "      <td>0.783294</td>\n",
       "      <td>778321600</td>\n",
       "      <td>AAPL</td>\n",
       "    </tr>\n",
       "    <tr>\n",
       "      <th>3</th>\n",
       "      <td>2000-01-06</td>\n",
       "      <td>0.947545</td>\n",
       "      <td>0.955357</td>\n",
       "      <td>0.848214</td>\n",
       "      <td>0.848214</td>\n",
       "      <td>0.715509</td>\n",
       "      <td>767972800</td>\n",
       "      <td>AAPL</td>\n",
       "    </tr>\n",
       "    <tr>\n",
       "      <th>4</th>\n",
       "      <td>2000-01-07</td>\n",
       "      <td>0.861607</td>\n",
       "      <td>0.901786</td>\n",
       "      <td>0.852679</td>\n",
       "      <td>0.888393</td>\n",
       "      <td>0.749402</td>\n",
       "      <td>460734400</td>\n",
       "      <td>AAPL</td>\n",
       "    </tr>\n",
       "    <tr>\n",
       "      <th>...</th>\n",
       "      <td>...</td>\n",
       "      <td>...</td>\n",
       "      <td>...</td>\n",
       "      <td>...</td>\n",
       "      <td>...</td>\n",
       "      <td>...</td>\n",
       "      <td>...</td>\n",
       "      <td>...</td>\n",
       "    </tr>\n",
       "    <tr>\n",
       "      <th>3768</th>\n",
       "      <td>2014-12-24</td>\n",
       "      <td>48.639999</td>\n",
       "      <td>48.639999</td>\n",
       "      <td>48.080002</td>\n",
       "      <td>48.139999</td>\n",
       "      <td>41.420223</td>\n",
       "      <td>11437800</td>\n",
       "      <td>MSFT</td>\n",
       "    </tr>\n",
       "    <tr>\n",
       "      <th>3769</th>\n",
       "      <td>2014-12-26</td>\n",
       "      <td>48.410000</td>\n",
       "      <td>48.410000</td>\n",
       "      <td>47.820000</td>\n",
       "      <td>47.880001</td>\n",
       "      <td>41.196507</td>\n",
       "      <td>13197800</td>\n",
       "      <td>MSFT</td>\n",
       "    </tr>\n",
       "    <tr>\n",
       "      <th>3770</th>\n",
       "      <td>2014-12-29</td>\n",
       "      <td>47.700001</td>\n",
       "      <td>47.779999</td>\n",
       "      <td>47.259998</td>\n",
       "      <td>47.450001</td>\n",
       "      <td>40.826538</td>\n",
       "      <td>14439500</td>\n",
       "      <td>MSFT</td>\n",
       "    </tr>\n",
       "    <tr>\n",
       "      <th>3771</th>\n",
       "      <td>2014-12-30</td>\n",
       "      <td>47.439999</td>\n",
       "      <td>47.619999</td>\n",
       "      <td>46.840000</td>\n",
       "      <td>47.020000</td>\n",
       "      <td>40.456558</td>\n",
       "      <td>16384700</td>\n",
       "      <td>MSFT</td>\n",
       "    </tr>\n",
       "    <tr>\n",
       "      <th>3772</th>\n",
       "      <td>2014-12-31</td>\n",
       "      <td>46.730000</td>\n",
       "      <td>47.439999</td>\n",
       "      <td>46.450001</td>\n",
       "      <td>46.450001</td>\n",
       "      <td>39.966122</td>\n",
       "      <td>21552500</td>\n",
       "      <td>MSFT</td>\n",
       "    </tr>\n",
       "  </tbody>\n",
       "</table>\n",
       "<p>7546 rows × 8 columns</p>\n",
       "</div>"
      ],
      "text/plain": [
       "           Date       Open       High        Low      Close  Adj Close  \\\n",
       "0    2000-01-03   0.936384   1.004464   0.907924   0.999442   0.843076   \n",
       "1    2000-01-04   0.966518   0.987723   0.903460   0.915179   0.771996   \n",
       "2    2000-01-05   0.926339   0.987165   0.919643   0.928571   0.783294   \n",
       "3    2000-01-06   0.947545   0.955357   0.848214   0.848214   0.715509   \n",
       "4    2000-01-07   0.861607   0.901786   0.852679   0.888393   0.749402   \n",
       "...         ...        ...        ...        ...        ...        ...   \n",
       "3768 2014-12-24  48.639999  48.639999  48.080002  48.139999  41.420223   \n",
       "3769 2014-12-26  48.410000  48.410000  47.820000  47.880001  41.196507   \n",
       "3770 2014-12-29  47.700001  47.779999  47.259998  47.450001  40.826538   \n",
       "3771 2014-12-30  47.439999  47.619999  46.840000  47.020000  40.456558   \n",
       "3772 2014-12-31  46.730000  47.439999  46.450001  46.450001  39.966122   \n",
       "\n",
       "         Volume ticker  \n",
       "0     535796800   AAPL  \n",
       "1     512377600   AAPL  \n",
       "2     778321600   AAPL  \n",
       "3     767972800   AAPL  \n",
       "4     460734400   AAPL  \n",
       "...         ...    ...  \n",
       "3768   11437800   MSFT  \n",
       "3769   13197800   MSFT  \n",
       "3770   14439500   MSFT  \n",
       "3771   16384700   MSFT  \n",
       "3772   21552500   MSFT  \n",
       "\n",
       "[7546 rows x 8 columns]"
      ]
     },
     "execution_count": 6,
     "metadata": {},
     "output_type": "execute_result"
    }
   ],
   "source": [
    "t = datetime(2015, 1, 1)\n",
    "sliced_data_2015 = info.slice_data(t)\n",
    "sliced_data_2015"
   ]
  },
  {
   "cell_type": "code",
   "execution_count": 7,
   "metadata": {},
   "outputs": [
    {
     "data": {
      "text/plain": [
       "{'AAPL': 27.594999313354492, 'MSFT': 46.45000076293945}"
      ]
     },
     "execution_count": 7,
     "metadata": {},
     "output_type": "execute_result"
    }
   ],
   "source": [
    "price_2015 = info.get_prices(t)\n",
    "price_2015"
   ]
  },
  {
   "cell_type": "markdown",
   "metadata": {},
   "source": [
    "**Classe First two moments :**"
   ]
  },
  {
   "cell_type": "code",
   "execution_count": 8,
   "metadata": {},
   "outputs": [
    {
     "data": {
      "text/plain": [
       "{'expected_return': array([0.0012898 , 0.00014512]),\n",
       " 'covariance_matrix': array([[58.72991905, 18.7476256 ],\n",
       "        [18.7476256 , 36.4826275 ]]),\n",
       " 'companies': array(['AAPL', 'MSFT'], dtype=object)}"
      ]
     },
     "execution_count": 8,
     "metadata": {},
     "output_type": "execute_result"
    }
   ],
   "source": [
    "moments = FirstTwoMoments.compute_information(info,t=t)\n",
    "moments"
   ]
  },
  {
   "cell_type": "code",
   "execution_count": 9,
   "metadata": {},
   "outputs": [
    {
     "data": {
      "text/plain": [
       "{'AAPL': 0.3072934439854117, 'MSFT': 0.6927065560145883}"
      ]
     },
     "execution_count": 9,
     "metadata": {},
     "output_type": "execute_result"
    }
   ],
   "source": [
    "portfolio = FirstTwoMoments.compute_portfolio(info, t=t,information_set = moments)\n",
    "portfolio"
   ]
  },
  {
   "cell_type": "markdown",
   "metadata": {},
   "source": [
    "#### Blockchain"
   ]
  },
  {
   "cell_type": "code",
   "execution_count": 10,
   "metadata": {},
   "outputs": [],
   "source": [
    "from blockchain import *"
   ]
  },
  {
   "cell_type": "code",
   "execution_count": 11,
   "metadata": {},
   "outputs": [],
   "source": [
    "from pybacktestchain import blockchain"
   ]
  },
  {
   "cell_type": "markdown",
   "metadata": {},
   "source": [
    "#### Broker"
   ]
  },
  {
   "cell_type": "code",
   "execution_count": 12,
   "metadata": {},
   "outputs": [],
   "source": [
    "from pybacktestchain import broker"
   ]
  },
  {
   "cell_type": "code",
   "execution_count": 13,
   "metadata": {},
   "outputs": [],
   "source": [
    "from pybacktestchain.broker import *"
   ]
  },
  {
   "cell_type": "code",
   "execution_count": 14,
   "metadata": {},
   "outputs": [
    {
     "data": {
      "text/plain": [
       "Broker(cash=10000, positions={}, transaction_log=Empty DataFrame\n",
       "Columns: [Date, Action, Ticker, Quantity, Price, Cash]\n",
       "Index: [], entry_prices={}, verbose=True)"
      ]
     },
     "execution_count": 14,
     "metadata": {},
     "output_type": "execute_result"
    }
   ],
   "source": [
    "broker_jean = Broker(10000, verbose = True)\n",
    "broker_jean"
   ]
  },
  {
   "cell_type": "code",
   "execution_count": 15,
   "metadata": {},
   "outputs": [
    {
     "name": "stderr",
     "output_type": "stream",
     "text": [
      "/Users/jeandeslis/Desktop/Cours M2 203/S1/Python/Projet/pybacktestchain/src/pybacktestchain/broker.py:115: FutureWarning: The behavior of DataFrame concatenation with empty or all-NA entries is deprecated. In a future version, this will no longer exclude empty or all-NA columns when determining the result dtypes. To retain the old behavior, exclude the relevant entries before the concat operation.\n",
      "  self.transaction_log = pd.concat([self.transaction_log, transaction], ignore_index=True)\n"
     ]
    }
   ],
   "source": [
    "broker_jean.buy('AAPL',20,150,datetime(2024,12,26))\n",
    "broker_jean.buy('MSFT',10,10,datetime(2024,12,26))\n",
    "broker_jean.buy('AAPL',20,160,datetime(2024,12,26))"
   ]
  },
  {
   "cell_type": "code",
   "execution_count": 16,
   "metadata": {},
   "outputs": [
    {
     "data": {
      "text/html": [
       "<div>\n",
       "<style scoped>\n",
       "    .dataframe tbody tr th:only-of-type {\n",
       "        vertical-align: middle;\n",
       "    }\n",
       "\n",
       "    .dataframe tbody tr th {\n",
       "        vertical-align: top;\n",
       "    }\n",
       "\n",
       "    .dataframe thead th {\n",
       "        text-align: right;\n",
       "    }\n",
       "</style>\n",
       "<table border=\"1\" class=\"dataframe\">\n",
       "  <thead>\n",
       "    <tr style=\"text-align: right;\">\n",
       "      <th></th>\n",
       "      <th>Date</th>\n",
       "      <th>Action</th>\n",
       "      <th>Ticker</th>\n",
       "      <th>Quantity</th>\n",
       "      <th>Price</th>\n",
       "      <th>Cash</th>\n",
       "    </tr>\n",
       "  </thead>\n",
       "  <tbody>\n",
       "    <tr>\n",
       "      <th>0</th>\n",
       "      <td>2024-12-26</td>\n",
       "      <td>BUY</td>\n",
       "      <td>AAPL</td>\n",
       "      <td>20</td>\n",
       "      <td>150</td>\n",
       "      <td>7000</td>\n",
       "    </tr>\n",
       "    <tr>\n",
       "      <th>1</th>\n",
       "      <td>2024-12-26</td>\n",
       "      <td>BUY</td>\n",
       "      <td>MSFT</td>\n",
       "      <td>10</td>\n",
       "      <td>10</td>\n",
       "      <td>6900</td>\n",
       "    </tr>\n",
       "    <tr>\n",
       "      <th>2</th>\n",
       "      <td>2024-12-26</td>\n",
       "      <td>BUY</td>\n",
       "      <td>AAPL</td>\n",
       "      <td>20</td>\n",
       "      <td>160</td>\n",
       "      <td>3700</td>\n",
       "    </tr>\n",
       "  </tbody>\n",
       "</table>\n",
       "</div>"
      ],
      "text/plain": [
       "        Date Action Ticker Quantity Price  Cash\n",
       "0 2024-12-26    BUY   AAPL       20   150  7000\n",
       "1 2024-12-26    BUY   MSFT       10    10  6900\n",
       "2 2024-12-26    BUY   AAPL       20   160  3700"
      ]
     },
     "execution_count": 16,
     "metadata": {},
     "output_type": "execute_result"
    }
   ],
   "source": [
    "broker_jean.transaction_log"
   ]
  },
  {
   "cell_type": "code",
   "execution_count": 17,
   "metadata": {},
   "outputs": [],
   "source": [
    "broker_jean.sell('MSFT',5,15,datetime(2024,12,26))"
   ]
  },
  {
   "cell_type": "code",
   "execution_count": 18,
   "metadata": {},
   "outputs": [
    {
     "data": {
      "text/html": [
       "<div>\n",
       "<style scoped>\n",
       "    .dataframe tbody tr th:only-of-type {\n",
       "        vertical-align: middle;\n",
       "    }\n",
       "\n",
       "    .dataframe tbody tr th {\n",
       "        vertical-align: top;\n",
       "    }\n",
       "\n",
       "    .dataframe thead th {\n",
       "        text-align: right;\n",
       "    }\n",
       "</style>\n",
       "<table border=\"1\" class=\"dataframe\">\n",
       "  <thead>\n",
       "    <tr style=\"text-align: right;\">\n",
       "      <th></th>\n",
       "      <th>Date</th>\n",
       "      <th>Action</th>\n",
       "      <th>Ticker</th>\n",
       "      <th>Quantity</th>\n",
       "      <th>Price</th>\n",
       "      <th>Cash</th>\n",
       "    </tr>\n",
       "  </thead>\n",
       "  <tbody>\n",
       "    <tr>\n",
       "      <th>0</th>\n",
       "      <td>2024-12-26</td>\n",
       "      <td>BUY</td>\n",
       "      <td>AAPL</td>\n",
       "      <td>20</td>\n",
       "      <td>150</td>\n",
       "      <td>7000</td>\n",
       "    </tr>\n",
       "    <tr>\n",
       "      <th>1</th>\n",
       "      <td>2024-12-26</td>\n",
       "      <td>BUY</td>\n",
       "      <td>MSFT</td>\n",
       "      <td>10</td>\n",
       "      <td>10</td>\n",
       "      <td>6900</td>\n",
       "    </tr>\n",
       "    <tr>\n",
       "      <th>2</th>\n",
       "      <td>2024-12-26</td>\n",
       "      <td>BUY</td>\n",
       "      <td>AAPL</td>\n",
       "      <td>20</td>\n",
       "      <td>160</td>\n",
       "      <td>3700</td>\n",
       "    </tr>\n",
       "    <tr>\n",
       "      <th>3</th>\n",
       "      <td>2024-12-26</td>\n",
       "      <td>SELL</td>\n",
       "      <td>MSFT</td>\n",
       "      <td>5</td>\n",
       "      <td>15</td>\n",
       "      <td>3775</td>\n",
       "    </tr>\n",
       "  </tbody>\n",
       "</table>\n",
       "</div>"
      ],
      "text/plain": [
       "        Date Action Ticker Quantity Price  Cash\n",
       "0 2024-12-26    BUY   AAPL       20   150  7000\n",
       "1 2024-12-26    BUY   MSFT       10    10  6900\n",
       "2 2024-12-26    BUY   AAPL       20   160  3700\n",
       "3 2024-12-26   SELL   MSFT        5    15  3775"
      ]
     },
     "execution_count": 18,
     "metadata": {},
     "output_type": "execute_result"
    }
   ],
   "source": [
    "broker_jean.transaction_log"
   ]
  },
  {
   "cell_type": "code",
   "execution_count": 19,
   "metadata": {},
   "outputs": [
    {
     "data": {
      "text/plain": [
       "{'AAPL': Position(ticker='AAPL', quantity=40, entry_price=155.0),\n",
       " 'MSFT': Position(ticker='MSFT', quantity=5, entry_price=10)}"
      ]
     },
     "execution_count": 19,
     "metadata": {},
     "output_type": "execute_result"
    }
   ],
   "source": [
    "broker_jean.positions"
   ]
  },
  {
   "cell_type": "code",
   "execution_count": 20,
   "metadata": {},
   "outputs": [
    {
     "data": {
      "text/plain": [
       "9955"
      ]
     },
     "execution_count": 20,
     "metadata": {},
     "output_type": "execute_result"
    }
   ],
   "source": [
    "Market_val = {\"AAPL\": 153, \"MSFT\": 12}\n",
    "broker_jean.get_portfolio_value(Market_val)"
   ]
  },
  {
   "cell_type": "markdown",
   "metadata": {},
   "source": [
    "Execute the mean variance portfolio : "
   ]
  },
  {
   "cell_type": "code",
   "execution_count": 21,
   "metadata": {},
   "outputs": [],
   "source": [
    "mean_var_ptf = broker_jean.execute_portfolio(portfolio = portfolio, prices=Market_val, date = datetime(2024, 12, 26))\n",
    "mean_var_ptf"
   ]
  },
  {
   "cell_type": "code",
   "execution_count": 22,
   "metadata": {},
   "outputs": [
    {
     "data": {
      "text/html": [
       "<div>\n",
       "<style scoped>\n",
       "    .dataframe tbody tr th:only-of-type {\n",
       "        vertical-align: middle;\n",
       "    }\n",
       "\n",
       "    .dataframe tbody tr th {\n",
       "        vertical-align: top;\n",
       "    }\n",
       "\n",
       "    .dataframe thead th {\n",
       "        text-align: right;\n",
       "    }\n",
       "</style>\n",
       "<table border=\"1\" class=\"dataframe\">\n",
       "  <thead>\n",
       "    <tr style=\"text-align: right;\">\n",
       "      <th></th>\n",
       "      <th>Date</th>\n",
       "      <th>Action</th>\n",
       "      <th>Ticker</th>\n",
       "      <th>Quantity</th>\n",
       "      <th>Price</th>\n",
       "      <th>Cash</th>\n",
       "    </tr>\n",
       "  </thead>\n",
       "  <tbody>\n",
       "    <tr>\n",
       "      <th>0</th>\n",
       "      <td>2024-12-26</td>\n",
       "      <td>BUY</td>\n",
       "      <td>AAPL</td>\n",
       "      <td>20</td>\n",
       "      <td>150</td>\n",
       "      <td>7000</td>\n",
       "    </tr>\n",
       "    <tr>\n",
       "      <th>1</th>\n",
       "      <td>2024-12-26</td>\n",
       "      <td>BUY</td>\n",
       "      <td>MSFT</td>\n",
       "      <td>10</td>\n",
       "      <td>10</td>\n",
       "      <td>6900</td>\n",
       "    </tr>\n",
       "    <tr>\n",
       "      <th>2</th>\n",
       "      <td>2024-12-26</td>\n",
       "      <td>BUY</td>\n",
       "      <td>AAPL</td>\n",
       "      <td>20</td>\n",
       "      <td>160</td>\n",
       "      <td>3700</td>\n",
       "    </tr>\n",
       "    <tr>\n",
       "      <th>3</th>\n",
       "      <td>2024-12-26</td>\n",
       "      <td>SELL</td>\n",
       "      <td>MSFT</td>\n",
       "      <td>5</td>\n",
       "      <td>15</td>\n",
       "      <td>3775</td>\n",
       "    </tr>\n",
       "    <tr>\n",
       "      <th>4</th>\n",
       "      <td>2024-12-26</td>\n",
       "      <td>SELL</td>\n",
       "      <td>AAPL</td>\n",
       "      <td>20</td>\n",
       "      <td>153</td>\n",
       "      <td>6835</td>\n",
       "    </tr>\n",
       "    <tr>\n",
       "      <th>5</th>\n",
       "      <td>2024-12-26</td>\n",
       "      <td>BUY</td>\n",
       "      <td>MSFT</td>\n",
       "      <td>569</td>\n",
       "      <td>12</td>\n",
       "      <td>7</td>\n",
       "    </tr>\n",
       "  </tbody>\n",
       "</table>\n",
       "</div>"
      ],
      "text/plain": [
       "        Date Action Ticker Quantity Price  Cash\n",
       "0 2024-12-26    BUY   AAPL       20   150  7000\n",
       "1 2024-12-26    BUY   MSFT       10    10  6900\n",
       "2 2024-12-26    BUY   AAPL       20   160  3700\n",
       "3 2024-12-26   SELL   MSFT        5    15  3775\n",
       "4 2024-12-26   SELL   AAPL       20   153  6835\n",
       "5 2024-12-26    BUY   MSFT      569    12     7"
      ]
     },
     "execution_count": 22,
     "metadata": {},
     "output_type": "execute_result"
    }
   ],
   "source": [
    "broker_jean.transaction_log"
   ]
  },
  {
   "cell_type": "code",
   "execution_count": 23,
   "metadata": {},
   "outputs": [
    {
     "data": {
      "text/plain": [
       "{'AAPL': Position(ticker='AAPL', quantity=20, entry_price=155.0),\n",
       " 'MSFT': Position(ticker='MSFT', quantity=574, entry_price=11.982578397212544)}"
      ]
     },
     "execution_count": 23,
     "metadata": {},
     "output_type": "execute_result"
    }
   ],
   "source": [
    "broker_jean.positions"
   ]
  },
  {
   "cell_type": "code",
   "execution_count": 24,
   "metadata": {},
   "outputs": [
    {
     "name": "stdout",
     "output_type": "stream",
     "text": [
      "True\n"
     ]
    }
   ],
   "source": [
    "print(EndOfMonth.time_to_rebalance(broker_jean, t = datetime(2024,12,31)))"
   ]
  },
  {
   "cell_type": "code",
   "execution_count": 27,
   "metadata": {},
   "outputs": [
    {
     "name": "stderr",
     "output_type": "stream",
     "text": [
      "WARNING:root:Blockchain with name backtest already exists. Please use a different name.\n"
     ]
    }
   ],
   "source": [
    "backtest = Backtest(initial_date='2024-01-01',\n",
    "                    final_date='2024-12-31')\n"
   ]
  },
  {
   "cell_type": "code",
   "execution_count": 28,
   "metadata": {},
   "outputs": [
    {
     "data": {
      "text/plain": [
       "<function pybacktestchain.broker.Backtest.run_backtest(self)>"
      ]
     },
     "execution_count": 28,
     "metadata": {},
     "output_type": "execute_result"
    }
   ],
   "source": [
    "Backtest.run_backtest"
   ]
  },
  {
   "cell_type": "code",
   "execution_count": 29,
   "metadata": {},
   "outputs": [
    {
     "name": "stderr",
     "output_type": "stream",
     "text": [
      "WARNING:root:Blockchain with name backtest already exists. Please use a different name.\n",
      "INFO:root:Running backtest from 2019-01-01 00:00:00 to 2020-01-01 00:00:00.\n",
      "INFO:root:Retrieving price data for universe\n",
      "WARNING:root:Error computing portfolio, returning equal weight portfolio\n",
      "WARNING:root:not enough values to unpack (expected 2, got 0)\n",
      "WARNING:root:Error computing portfolio, returning equal weight portfolio\n",
      "WARNING:root:not enough values to unpack (expected 2, got 0)\n",
      "/Users/jeandeslis/opt/anaconda3/envs/pybacktestchain/lib/python3.12/site-packages/pandas/core/frame.py:11211: RuntimeWarning: Degrees of freedom <= 0 for slice\n",
      "  base_cov = np.cov(mat.T, ddof=ddof)\n",
      "/Users/jeandeslis/opt/anaconda3/envs/pybacktestchain/lib/python3.12/site-packages/numpy/lib/function_base.py:2748: RuntimeWarning: divide by zero encountered in divide\n",
      "  c *= np.true_divide(1, fact)\n",
      "/Users/jeandeslis/opt/anaconda3/envs/pybacktestchain/lib/python3.12/site-packages/numpy/lib/function_base.py:2748: RuntimeWarning: invalid value encountered in multiply\n",
      "  c *= np.true_divide(1, fact)\n",
      "WARNING:root:Error computing portfolio, returning equal weight portfolio\n",
      "WARNING:root:Optimization did not converge\n",
      "INFO:root:-----------------------------------\n",
      "INFO:root:Rebalancing portfolio at 2019-01-31 00:00:00\n",
      "/Users/jeandeslis/Desktop/Cours M2 203/S1/Python/Projet/pybacktestchain/src/pybacktestchain/broker.py:115: FutureWarning: The behavior of DataFrame concatenation with empty or all-NA entries is deprecated. In a future version, this will no longer exclude empty or all-NA columns when determining the result dtypes. To retain the old behavior, exclude the relevant entries before the concat operation.\n",
      "  self.transaction_log = pd.concat([self.transaction_log, transaction], ignore_index=True)\n",
      "INFO:root:-----------------------------------\n",
      "INFO:root:Rebalancing portfolio at 2019-02-28 00:00:00\n",
      "INFO:root:Stop loss triggered for TSLA at 2019-03-06 00:00:00. Selling all shares.\n",
      "INFO:root:-----------------------------------\n",
      "INFO:root:Rebalancing portfolio at 2019-03-29 00:00:00\n",
      "INFO:root:Stop loss triggered for TSLA at 2019-04-26 00:00:00. Selling all shares.\n",
      "INFO:root:-----------------------------------\n",
      "INFO:root:Rebalancing portfolio at 2019-04-30 00:00:00\n",
      "INFO:root:Stop loss triggered for TSLA at 2019-05-18 00:00:00. Selling all shares.\n",
      "INFO:root:-----------------------------------\n",
      "INFO:root:Rebalancing portfolio at 2019-05-31 00:00:00\n",
      "INFO:root:-----------------------------------\n",
      "INFO:root:Rebalancing portfolio at 2019-06-28 00:00:00\n",
      "WARNING:root:Not enough cash to buy 12895 of NVDA on 2019-06-28 00:00:00. Needed: 52311.17405653, Available: 52300.11852526665\n",
      "INFO:root:Buying as many shares of NVDA as possible with available cash.\n",
      "INFO:root:-----------------------------------\n",
      "INFO:root:Rebalancing portfolio at 2019-07-31 00:00:00\n",
      "INFO:root:Stop loss triggered for TSLA at 2019-08-16 00:00:00. Selling all shares.\n",
      "INFO:root:-----------------------------------\n",
      "INFO:root:Rebalancing portfolio at 2019-08-30 00:00:00\n",
      "INFO:root:-----------------------------------\n",
      "INFO:root:Rebalancing portfolio at 2019-09-30 00:00:00\n",
      "INFO:root:-----------------------------------\n",
      "INFO:root:Rebalancing portfolio at 2019-10-31 00:00:00\n",
      "INFO:root:-----------------------------------\n",
      "INFO:root:Rebalancing portfolio at 2019-11-29 00:00:00\n",
      "INFO:root:-----------------------------------\n",
      "INFO:root:Rebalancing portfolio at 2019-12-31 00:00:00\n",
      "WARNING:root:Not enough cash to buy 1703 of CSCO on 2019-12-31 00:00:00. Needed: 69351.89192962646, Available: 69193.51055550575\n",
      "INFO:root:Buying as many shares of CSCO as possible with available cash.\n",
      "INFO:root:Backtest completed. Final portfolio value: 1712580.8556883335\n"
     ]
    },
    {
     "name": "stdout",
     "output_type": "stream",
     "text": [
      "--------------------------------------------------------------------------------\n",
      "Block 0\n",
      "--------------------------------------------------------------------------------\n",
      "Backtest: Genesis Block\n",
      "Timestamp: 1731935903.061617\n",
      "Hash: 7f9a05b03c70e521bb8c5bb8931a2cc558ddb770766673e2dd8879782e82b000\n",
      "Previous Hash: 0\n",
      "--------------------------------------------------------------------------------\n",
      "--------------------------------------------------------------------------------\n",
      "Block 1\n",
      "--------------------------------------------------------------------------------\n",
      "Backtest: Block 1\n",
      "Timestamp: 1731935903.0626788\n",
      "Hash: 34f89079b2f927f052e0a373d40386a3ce65ff24da1facbeffce59862f6c25e1\n",
      "Previous Hash: 7f9a05b03c70e521bb8c5bb8931a2cc558ddb770766673e2dd8879782e82b000\n",
      "--------------------------------------------------------------------------------\n",
      "--------------------------------------------------------------------------------\n",
      "Block 2\n",
      "--------------------------------------------------------------------------------\n",
      "Backtest: AmberSharkPilot\n",
      "Timestamp: 1735508282.7063649\n",
      "Hash: 5b82e9208f1bc15865adda2631d218c34471d78ee9c14726f09960b81fd7d8e0\n",
      "Previous Hash: 34f89079b2f927f052e0a373d40386a3ce65ff24da1facbeffce59862f6c25e1\n",
      "--------------------------------------------------------------------------------\n",
      "\n",
      "True\n"
     ]
    }
   ],
   "source": [
    "\n",
    "from pybacktestchain.data_module import FirstTwoMoments\n",
    "from pybacktestchain.broker import Backtest, StopLoss\n",
    "from pybacktestchain.blockchain import load_blockchain\n",
    "from datetime import datetime\n",
    "\n",
    "# Set verbosity for logging\n",
    "verbose = False  # Set to True to enable logging, or False to suppress it\n",
    "\n",
    "backtest = Backtest(\n",
    "    initial_date=datetime(2019, 1, 1),\n",
    "    final_date=datetime(2020, 1, 1),\n",
    "    information_class=FirstTwoMoments,\n",
    "    risk_model=StopLoss,\n",
    "    name_blockchain='backtest',\n",
    "    verbose=verbose\n",
    ")\n",
    "\n",
    "backtest.run_backtest()\n",
    "\n",
    "block_chain = load_blockchain('backtest')\n",
    "print(str(block_chain))\n",
    "# check if the blockchain is valid\n",
    "print(block_chain.is_valid())\n"
   ]
  },
  {
   "cell_type": "code",
   "execution_count": null,
   "metadata": {},
   "outputs": [],
   "source": []
  }
 ],
 "metadata": {
  "kernelspec": {
   "display_name": "pybacktestchain",
   "language": "python",
   "name": "python3"
  },
  "language_info": {
   "codemirror_mode": {
    "name": "ipython",
    "version": 3
   },
   "file_extension": ".py",
   "mimetype": "text/x-python",
   "name": "python",
   "nbconvert_exporter": "python",
   "pygments_lexer": "ipython3",
   "version": "3.12.6"
  }
 },
 "nbformat": 4,
 "nbformat_minor": 2
}
